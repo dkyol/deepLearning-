{
 "cells": [
  {
   "cell_type": "code",
   "execution_count": 1,
   "metadata": {},
   "outputs": [
    {
     "name": "stderr",
     "output_type": "stream",
     "text": [
      "Using TensorFlow backend.\n"
     ]
    }
   ],
   "source": [
    "# import libraries \n",
    "#from imutils import paths \n",
    "import cv2\n",
    "import keras\n",
    "from keras.preprocessing.image import img_to_array\n",
    "import os\n",
    "import numpy as np \n",
    "import time \n",
    "from sklearn.model_selection import train_test_split\n",
    "from pathlib import Path, PureWindowsPath, PurePath, PosixPath\n",
    "from skimage.io import imread\n",
    "import pandas as pd \n",
    "from matplotlib import pyplot as plt\n",
    "from matplotlib import image\n",
    "from keras.utils import to_categorical\n",
    "from keras.models import Sequential\n",
    "from keras.layers import Conv2D, MaxPooling2D, Flatten, Dense, Dropout, Input, SeparableConv2D\n",
    "from collections import defaultdict\n",
    "from keras.layers.normalization import BatchNormalization\n",
    "from keras.models import Model"
   ]
  },
  {
   "cell_type": "code",
   "execution_count": 2,
   "metadata": {},
   "outputs": [],
   "source": [
    "#'C:/Users/D/Desktop/Java/MachineLearning/7. Machine Learning Capstone/Data/chest_xray/'\n",
    "p = Path('/home/ec2-user/src/Data/ChestXray/chest_xray/').glob('**/*')\n",
    "dir = [x for x in p if x.is_dir()]\n",
    "\n",
    "source_dir = dir[3:]"
   ]
  },
  {
   "cell_type": "code",
   "execution_count": 3,
   "metadata": {},
   "outputs": [
    {
     "name": "stdout",
     "output_type": "stream",
     "text": [
      "[PosixPath('/home/ec2-user/src/Data/ChestXray/chest_xray/val/PNEUMONIA'), PosixPath('/home/ec2-user/src/Data/ChestXray/chest_xray/val/NORMAL'), PosixPath('/home/ec2-user/src/Data/ChestXray/chest_xray/train/PNEUMONIA'), PosixPath('/home/ec2-user/src/Data/ChestXray/chest_xray/train/NORMAL'), PosixPath('/home/ec2-user/src/Data/ChestXray/chest_xray/test/PNEUMONIA'), PosixPath('/home/ec2-user/src/Data/ChestXray/chest_xray/test/NORMAL')]\n"
     ]
    }
   ],
   "source": [
    "print(source_dir) "
   ]
  },
  {
   "cell_type": "code",
   "execution_count": 4,
   "metadata": {},
   "outputs": [],
   "source": [
    "\n",
    "# normal = 0\n",
    "# sick = 1\n",
    "data_topic = 'valPneumonia valNormal trainPneumonia trainNormal testPneumonia testNormal'.split()\n",
    "data_folder = defaultdict(list)\n",
    "\n",
    "for x, path in enumerate(source_dir):\n",
    "    for img in path.glob('*.jpeg'):\n",
    "        if x % 2 == 0:\n",
    "            data_folder[data_topic[x]].append((img,1))\n",
    "        else:\n",
    "            data_folder[data_topic[x]].append((img,0))         \n",
    "                                            "
   ]
  },
  {
   "cell_type": "code",
   "execution_count": 5,
   "metadata": {
    "scrolled": true
   },
   "outputs": [
    {
     "name": "stdout",
     "output_type": "stream",
     "text": [
      "[8, 8, 3875, 1341, 390, 234]\n"
     ]
    }
   ],
   "source": [
    "totals = []\n",
    "\n",
    "for x in range(len(data_topic)):\n",
    "    totals.append(len(data_folder[data_topic[x]]))\n",
    "    \n",
    "print(totals)"
   ]
  },
  {
   "cell_type": "code",
   "execution_count": 10,
   "metadata": {
    "scrolled": true
   },
   "outputs": [],
   "source": [
    "# create data frame bar chart..\n",
    "\n",
    "\n",
    "totals = np.asarray(totals)\n",
    "\n",
    "totals = np.reshape(totals,(1,6))\n",
    "\n",
    "total_data = pd.DataFrame(totals , columns = data_topic)\n"
   ]
  },
  {
   "cell_type": "code",
   "execution_count": 11,
   "metadata": {},
   "outputs": [
    {
     "data": {
      "image/png": "[encoded data removed]",
      "text/plain": [
       "<matplotlib.figure.Figure at 0x7ffb408cbf28>"
      ]
     },
     "metadata": {},
     "output_type": "display_data"
    }
   ],
   "source": [
    "total_data.plot(kind ='barh')\n",
    "plt.show()\n",
    "\n",
    "#print(total_data)"
   ]
  },
  {
   "cell_type": "code",
   "execution_count": 12,
   "metadata": {},
   "outputs": [],
   "source": [
    "def createXy(normalData, PneumoniaData):\n",
    "    # data is a tuple list \n",
    "    data = list(normalData) + list(PneumoniaData)\n",
    "    \n",
    "    xLabels = []\n",
    "    yLabels = []\n",
    "    num = len(data)\n",
    "    print(num)\n",
    "    for x in range(num):\n",
    "        imgPath = data[x][0]\n",
    "        img = cv2.imread(str(imgPath))\n",
    "        img = cv2.resize(img, (288,288))\n",
    "        img = img.astype(np.float32)/255.\n",
    "        xLabels.append(img)\n",
    "        label = data[x][1]\n",
    "        label = to_categorical(label, num_classes = 2)\n",
    "        yLabels.append(label)\n",
    "        \n",
    "        yDim = np.squeeze(yLabels, axis =1)\n",
    "        \n",
    "        xArrayLabels = np.asarray(xLabels)\n",
    "        yArrayLabels = np.asarray(yDim)\n",
    "        \n",
    "                    \n",
    "    return xArrayLabels, yArrayLabels\n",
    "        \n",
    "    "
   ]
  },
  {
   "cell_type": "code",
   "execution_count": 13,
   "metadata": {},
   "outputs": [
    {
     "name": "stdout",
     "output_type": "stream",
     "text": [
      "5216\n",
      "16\n"
     ]
    }
   ],
   "source": [
    "# arrays of x and y train,val data\n",
    "\n",
    "Xtrain, Ytrain= createXy(data_folder['trainNormal'],data_folder['trainPneumonia'] )\n",
    "Xval, Yval= createXy(data_folder['valNormal'],data_folder['valPneumonia'])"
   ]
  },
  {
   "cell_type": "code",
   "execution_count": 14,
   "metadata": {},
   "outputs": [
    {
     "name": "stdout",
     "output_type": "stream",
     "text": [
      "624\n"
     ]
    }
   ],
   "source": [
    "# arrays of x and y test data\n",
    "Xtest, Ytest= createXy(data_folder['testNormal'],data_folder['testPneumonia'])"
   ]
  },
  {
   "cell_type": "code",
   "execution_count": 128,
   "metadata": {},
   "outputs": [
    {
     "name": "stdout",
     "output_type": "stream",
     "text": [
      "_________________________________________________________________\n",
      "Layer (type)                 Output Shape              Param #   \n",
      "=================================================================\n",
      "conv2d_92 (Conv2D)           (None, 288, 288, 32)      1568      \n",
      "_________________________________________________________________\n",
      "conv2d_93 (Conv2D)           (None, 288, 288, 32)      4128      \n",
      "_________________________________________________________________\n",
      "max_pooling2d_46 (MaxPooling (None, 72, 72, 32)        0         \n",
      "_________________________________________________________________\n",
      "conv2d_94 (Conv2D)           (None, 72, 72, 64)        8256      \n",
      "_________________________________________________________________\n",
      "conv2d_95 (Conv2D)           (None, 72, 72, 64)        16448     \n",
      "_________________________________________________________________\n",
      "max_pooling2d_47 (MaxPooling (None, 18, 18, 64)        0         \n",
      "_________________________________________________________________\n",
      "conv2d_96 (Conv2D)           (None, 18, 18, 128)       32896     \n",
      "_________________________________________________________________\n",
      "conv2d_97 (Conv2D)           (None, 18, 18, 256)       131328    \n",
      "_________________________________________________________________\n",
      "max_pooling2d_48 (MaxPooling (None, 9, 9, 256)         0         \n",
      "_________________________________________________________________\n",
      "flatten_16 (Flatten)         (None, 20736)             0         \n",
      "_________________________________________________________________\n",
      "dense_36 (Dense)             (None, 300)               6221100   \n",
      "_________________________________________________________________\n",
      "dense_37 (Dense)             (None, 2)                 602       \n",
      "=================================================================\n",
      "Total params: 6,416,326\n",
      "Trainable params: 6,416,326\n",
      "Non-trainable params: 0\n",
      "_________________________________________________________________\n"
     ]
    }
   ],
   "source": [
    "model = Sequential()\n",
    "\n",
    "model.add(Conv2D(filters=32, kernel_size=4, padding='same', activation='relu', input_shape=(288, 288, 3)))\n",
    "\n",
    "model.add(Conv2D(filters=32, kernel_size=2, padding='same', activation='relu'))\n",
    "\n",
    "model.add(MaxPooling2D(pool_size=4))\n",
    "\n",
    "model.add(Conv2D(filters=64, kernel_size=2, padding='same', activation='relu'))\n",
    "\n",
    "model.add(Conv2D(filters=64, kernel_size=2, padding='same', activation='relu'))\n",
    "\n",
    "model.add(MaxPooling2D(pool_size=4))\n",
    "\n",
    "model.add(Conv2D(filters=128, kernel_size=2, padding='same', activation='relu'))\n",
    "\n",
    "model.add(Conv2D(filters=256, kernel_size=2, padding='same', activation='relu'))\n",
    "\n",
    "model.add(MaxPooling2D(pool_size=2))\n",
    "\n",
    "model.add(Flatten())\n",
    "\n",
    "model.add(Dense(300, activation='relu'))\n",
    "\n",
    "model.add(Dense(2, activation='softmax'))\n",
    "\n",
    "model.summary()"
   ]
  },
  {
   "cell_type": "code",
   "execution_count": 129,
   "metadata": {},
   "outputs": [],
   "source": [
    "model.compile(loss='categorical_crossentropy', optimizer ='rmsprop', metrics =['accuracy'])"
   ]
  },
  {
   "cell_type": "code",
   "execution_count": 130,
   "metadata": {},
   "outputs": [
    {
     "name": "stdout",
     "output_type": "stream",
     "text": [
      "Train on 5216 samples, validate on 16 samples\n",
      "Epoch 1/20\n",
      "5200/5216 [============================>.] - ETA: 0s - loss: 0.3020 - acc: 0.8854Epoch 00000: val_loss improved from inf to 0.61061, saving model to model.weights.best.hdf5\n",
      "5216/5216 [==============================] - 58s - loss: 0.3017 - acc: 0.8855 - val_loss: 0.6106 - val_acc: 0.6250\n",
      "Epoch 2/20\n",
      "5200/5216 [============================>.] - ETA: 0s - loss: 0.1355 - acc: 0.9512Epoch 00001: val_loss did not improve\n",
      "5216/5216 [==============================] - 57s - loss: 0.1360 - acc: 0.9507 - val_loss: 1.3656 - val_acc: 0.6250\n",
      "Epoch 3/20\n",
      "5200/5216 [============================>.] - ETA: 0s - loss: 0.1010 - acc: 0.9658Epoch 00002: val_loss improved from 0.61061 to 0.32308, saving model to model.weights.best.hdf5\n",
      "5216/5216 [==============================] - 58s - loss: 0.1007 - acc: 0.9659 - val_loss: 0.3231 - val_acc: 0.9375\n",
      "Epoch 4/20\n",
      "5200/5216 [============================>.] - ETA: 0s - loss: 0.0931 - acc: 0.9694Epoch 00003: val_loss improved from 0.32308 to 0.23950, saving model to model.weights.best.hdf5\n",
      "5216/5216 [==============================] - 58s - loss: 0.0931 - acc: 0.9693 - val_loss: 0.2395 - val_acc: 0.9375\n",
      "Epoch 5/20\n",
      "5200/5216 [============================>.] - ETA: 0s - loss: 0.0771 - acc: 0.9737Epoch 00004: val_loss improved from 0.23950 to 0.09430, saving model to model.weights.best.hdf5\n",
      "5216/5216 [==============================] - 58s - loss: 0.0769 - acc: 0.9737 - val_loss: 0.0943 - val_acc: 0.9375\n",
      "Epoch 6/20\n",
      "5200/5216 [============================>.] - ETA: 0s - loss: 0.0640 - acc: 0.9813Epoch 00005: val_loss did not improve\n",
      "5216/5216 [==============================] - 57s - loss: 0.0638 - acc: 0.9814 - val_loss: 0.6988 - val_acc: 0.9375\n",
      "Epoch 7/20\n",
      "5200/5216 [============================>.] - ETA: 0s - loss: 0.0608 - acc: 0.9835Epoch 00006: val_loss did not improve\n",
      "5216/5216 [==============================] - 57s - loss: 0.0607 - acc: 0.9835 - val_loss: 0.2695 - val_acc: 0.9375\n",
      "Epoch 8/20\n",
      "5200/5216 [============================>.] - ETA: 0s - loss: 0.0735 - acc: 0.9812Epoch 00007: val_loss did not improve\n",
      "5216/5216 [==============================] - 57s - loss: 0.0740 - acc: 0.9808 - val_loss: 0.5472 - val_acc: 0.8750\n",
      "Epoch 9/20\n",
      "5200/5216 [============================>.] - ETA: 0s - loss: 0.0465 - acc: 0.9863Epoch 00008: val_loss did not improve\n",
      "5216/5216 [==============================] - 57s - loss: 0.0464 - acc: 0.9864 - val_loss: 0.3783 - val_acc: 0.9375\n",
      "Epoch 10/20\n",
      "5200/5216 [============================>.] - ETA: 0s - loss: 0.0405 - acc: 0.9881Epoch 00009: val_loss improved from 0.09430 to 0.01155, saving model to model.weights.best.hdf5\n",
      "5216/5216 [==============================] - 57s - loss: 0.0407 - acc: 0.9879 - val_loss: 0.0115 - val_acc: 1.0000\n",
      "Epoch 11/20\n",
      "5200/5216 [============================>.] - ETA: 0s - loss: 0.0364 - acc: 0.9883Epoch 00010: val_loss did not improve\n",
      "5216/5216 [==============================] - 57s - loss: 0.0363 - acc: 0.9883 - val_loss: 0.5868 - val_acc: 0.9375\n",
      "Epoch 12/20\n",
      "5200/5216 [============================>.] - ETA: 0s - loss: 0.0387 - acc: 0.9883Epoch 00011: val_loss did not improve\n",
      "5216/5216 [==============================] - 57s - loss: 0.0386 - acc: 0.9883 - val_loss: 0.2407 - val_acc: 0.9375\n",
      "Epoch 13/20\n",
      "5200/5216 [============================>.] - ETA: 0s - loss: 0.0389 - acc: 0.9912Epoch 00012: val_loss did not improve\n",
      "5216/5216 [==============================] - 57s - loss: 0.0388 - acc: 0.9912 - val_loss: 0.3878 - val_acc: 0.9375\n",
      "Epoch 14/20\n",
      "5200/5216 [============================>.] - ETA: 0s - loss: 0.0297 - acc: 0.9913Epoch 00013: val_loss did not improve\n",
      "5216/5216 [==============================] - 57s - loss: 0.0297 - acc: 0.9914 - val_loss: 1.6088 - val_acc: 0.8750\n",
      "Epoch 15/20\n",
      "5200/5216 [============================>.] - ETA: 0s - loss: 0.0253 - acc: 0.9935Epoch 00014: val_loss did not improve\n",
      "5216/5216 [==============================] - 57s - loss: 0.0255 - acc: 0.9933 - val_loss: 0.7098 - val_acc: 0.9375\n",
      "Epoch 16/20\n",
      "5200/5216 [============================>.] - ETA: 0s - loss: 0.0606 - acc: 0.9900Epoch 00015: val_loss did not improve\n",
      "5216/5216 [==============================] - 57s - loss: 0.0604 - acc: 0.9900 - val_loss: 0.1748 - val_acc: 0.9375\n",
      "Epoch 17/20\n",
      "5200/5216 [============================>.] - ETA: 0s - loss: 0.0322 - acc: 0.9938Epoch 00016: val_loss did not improve\n",
      "5216/5216 [==============================] - 57s - loss: 0.0321 - acc: 0.9939 - val_loss: 0.4312 - val_acc: 0.9375\n",
      "Epoch 18/20\n",
      "5200/5216 [============================>.] - ETA: 0s - loss: 0.0220 - acc: 0.9948Epoch 00017: val_loss did not improve\n",
      "5216/5216 [==============================] - 57s - loss: 0.0219 - acc: 0.9948 - val_loss: 0.2185 - val_acc: 0.9375\n",
      "Epoch 19/20\n",
      "5200/5216 [============================>.] - ETA: 0s - loss: 0.0280 - acc: 0.9950Epoch 00018: val_loss did not improve\n",
      "5216/5216 [==============================] - 57s - loss: 0.0279 - acc: 0.9950 - val_loss: 1.0074 - val_acc: 0.9375\n",
      "Epoch 20/20\n",
      "5200/5216 [============================>.] - ETA: 0s - loss: 0.0231 - acc: 0.9950Epoch 00019: val_loss did not improve\n",
      "5216/5216 [==============================] - 57s - loss: 0.0231 - acc: 0.9950 - val_loss: 0.8463 - val_acc: 0.9375\n"
     ]
    },
    {
     "data": {
      "text/plain": [
       "<keras.callbacks.History at 0x7ffaea34c8d0>"
      ]
     },
     "execution_count": 130,
     "metadata": {},
     "output_type": "execute_result"
    }
   ],
   "source": [
    "from keras.callbacks import ModelCheckpoint   \n",
    "\n",
    "# train the model\n",
    "checkpointer = ModelCheckpoint(filepath='model.weights.best.hdf5', verbose=1, save_best_only=True)\n",
    "\n",
    "model.fit(Xtrain, Ytrain, validation_data=(Xval, Yval), epochs=20, batch_size=20, callbacks=[checkpointer], verbose=1)"
   ]
  },
  {
   "cell_type": "code",
   "execution_count": 131,
   "metadata": {},
   "outputs": [],
   "source": [
    "# load the weights \n",
    "model.load_weights('model.weights.best.hdf5')"
   ]
  },
  {
   "cell_type": "code",
   "execution_count": 132,
   "metadata": {},
   "outputs": [
    {
     "name": "stdout",
     "output_type": "stream",
     "text": [
      "\n",
      " Test accuracy: 0.793269230769\n"
     ]
    }
   ],
   "source": [
    "score = model.evaluate(Xtest, Ytest, verbose=0) \n",
    "print('\\n', 'Test accuracy:', score[1])\n"
   ]
  },
  {
   "cell_type": "code",
   "execution_count": 133,
   "metadata": {},
   "outputs": [],
   "source": [
    "from sklearn.metrics import confusion_matrix\n",
    "import pylab as pl\n",
    "\n",
    "predictions = model.predict(Xtest)\n"
   ]
  },
  {
   "cell_type": "code",
   "execution_count": 134,
   "metadata": {},
   "outputs": [
    {
     "data": {
      "text/plain": [
       "array([0, 0, 1, 0, 1, 0, 0, 1, 0, 1, 0, 0, 1, 1, 0, 1, 0, 1, 1, 0, 1, 1, 1,\n",
       "       1, 1, 1, 1, 0, 0, 0, 1, 1, 1, 1, 0, 0, 1, 1, 0, 1, 1, 1, 0, 1, 1, 0,\n",
       "       1, 0, 0, 1, 0, 0, 0, 1, 0, 1, 0, 1, 1, 0, 1, 1, 0, 1, 0, 0, 0, 1, 1,\n",
       "       0, 0, 1, 1, 1, 0, 1, 0, 1, 0, 1, 0, 0, 0, 1, 0, 1, 0, 1, 1, 1, 0, 1,\n",
       "       0, 1, 0, 0, 1, 1, 1, 0, 1, 1, 1, 1, 0, 1, 1, 0, 1, 1, 0, 0, 1, 0, 0,\n",
       "       0, 1, 0, 1, 0, 0, 0, 0, 1, 1, 0, 1, 1, 0, 0, 0, 1, 1, 1, 1, 0, 1, 0,\n",
       "       1, 0, 0, 1, 0, 1, 0, 0, 1, 0, 0, 1, 0, 0, 1, 1, 1, 1, 1, 1, 1, 0, 0,\n",
       "       1, 1, 0, 1, 0, 0, 0, 1, 1, 1, 1, 0, 1, 0, 1, 1, 1, 0, 0, 0, 0, 0, 1,\n",
       "       1, 0, 1, 0, 1, 1, 1, 1, 0, 0, 1, 0, 1, 1, 1, 1, 0, 0, 1, 1, 0, 0, 0,\n",
       "       1, 0, 0, 1, 1, 0, 1, 1, 1, 0, 0, 0, 1, 1, 0, 1, 1, 1, 0, 0, 0, 1, 0,\n",
       "       1, 0, 1, 1, 1, 1, 1, 1, 1, 1, 1, 1, 1, 1, 1, 1, 1, 1, 1, 1, 1, 1, 1,\n",
       "       1, 1, 1, 1, 1, 1, 1, 1, 1, 1, 1, 1, 1, 1, 1, 1, 1, 1, 1, 1, 1, 1, 1,\n",
       "       1, 1, 1, 1, 1, 1, 1, 1, 1, 1, 1, 1, 1, 1, 1, 1, 1, 1, 1, 1, 1, 1, 1,\n",
       "       1, 1, 1, 1, 1, 1, 1, 1, 1, 1, 1, 1, 1, 1, 1, 1, 1, 1, 1, 1, 1, 0, 1,\n",
       "       1, 1, 1, 1, 1, 1, 1, 1, 1, 1, 1, 1, 1, 1, 1, 1, 1, 1, 1, 1, 1, 1, 1,\n",
       "       1, 1, 1, 1, 1, 1, 1, 1, 1, 1, 1, 1, 1, 1, 1, 1, 1, 1, 1, 1, 1, 1, 1,\n",
       "       1, 1, 1, 1, 1, 1, 1, 1, 1, 1, 1, 1, 1, 1, 1, 1, 1, 1, 1, 1, 1, 1, 1,\n",
       "       1, 1, 1, 1, 1, 1, 1, 1, 1, 1, 1, 1, 1, 1, 1, 0, 1, 1, 1, 1, 1, 1, 1,\n",
       "       1, 1, 1, 1, 1, 1, 1, 1, 1, 1, 1, 1, 1, 1, 1, 1, 1, 1, 1, 1, 1, 1, 1,\n",
       "       1, 1, 1, 1, 1, 1, 1, 1, 1, 1, 1, 1, 1, 1, 1, 1, 1, 1, 1, 1, 1, 1, 1,\n",
       "       1, 1, 1, 1, 1, 1, 1, 1, 1, 1, 1, 1, 1, 1, 1, 1, 1, 1, 1, 1, 1, 1, 1,\n",
       "       1, 1, 1, 1, 1, 1, 1, 1, 1, 1, 1, 1, 1, 1, 1, 1, 1, 1, 1, 1, 1, 1, 1,\n",
       "       1, 1, 1, 1, 1, 1, 1, 1, 1, 1, 1, 1, 1, 1, 1, 1, 1, 1, 1, 1, 1, 1, 1,\n",
       "       1, 1, 1, 1, 1, 1, 1, 1, 1, 1, 1, 1, 1, 1, 1, 1, 1, 1, 1, 1, 1, 1, 1,\n",
       "       1, 1, 1, 1, 1, 1, 1, 1, 1, 1, 1, 1, 1, 1, 1, 1, 1, 1, 1, 1, 1, 1, 1,\n",
       "       1, 1, 1, 1, 1, 1, 1, 1, 1, 1, 1, 1, 1, 1, 1, 1, 1, 1, 1, 1, 1, 1, 1,\n",
       "       1, 1, 1, 1, 1, 1, 1, 1, 1, 1, 1, 1, 0, 1, 1, 1, 1, 1, 1, 1, 1, 1, 1,\n",
       "       1, 1, 1])"
      ]
     },
     "execution_count": 134,
     "metadata": {},
     "output_type": "execute_result"
    }
   ],
   "source": [
    "np.argmax(predictions, axis =1)"
   ]
  },
  {
   "cell_type": "code",
   "execution_count": 135,
   "metadata": {},
   "outputs": [
    {
     "data": {
      "text/plain": [
       "array([0, 0, 0, 0, 0, 0, 0, 0, 0, 0, 0, 0, 0, 0, 0, 0, 0, 0, 0, 0, 0, 0, 0,\n",
       "       0, 0, 0, 0, 0, 0, 0, 0, 0, 0, 0, 0, 0, 0, 0, 0, 0, 0, 0, 0, 0, 0, 0,\n",
       "       0, 0, 0, 0, 0, 0, 0, 0, 0, 0, 0, 0, 0, 0, 0, 0, 0, 0, 0, 0, 0, 0, 0,\n",
       "       0, 0, 0, 0, 0, 0, 0, 0, 0, 0, 0, 0, 0, 0, 0, 0, 0, 0, 0, 0, 0, 0, 0,\n",
       "       0, 0, 0, 0, 0, 0, 0, 0, 0, 0, 0, 0, 0, 0, 0, 0, 0, 0, 0, 0, 0, 0, 0,\n",
       "       0, 0, 0, 0, 0, 0, 0, 0, 0, 0, 0, 0, 0, 0, 0, 0, 0, 0, 0, 0, 0, 0, 0,\n",
       "       0, 0, 0, 0, 0, 0, 0, 0, 0, 0, 0, 0, 0, 0, 0, 0, 0, 0, 0, 0, 0, 0, 0,\n",
       "       0, 0, 0, 0, 0, 0, 0, 0, 0, 0, 0, 0, 0, 0, 0, 0, 0, 0, 0, 0, 0, 0, 0,\n",
       "       0, 0, 0, 0, 0, 0, 0, 0, 0, 0, 0, 0, 0, 0, 0, 0, 0, 0, 0, 0, 0, 0, 0,\n",
       "       0, 0, 0, 0, 0, 0, 0, 0, 0, 0, 0, 0, 0, 0, 0, 0, 0, 0, 0, 0, 0, 0, 0,\n",
       "       0, 0, 0, 0, 1, 1, 1, 1, 1, 1, 1, 1, 1, 1, 1, 1, 1, 1, 1, 1, 1, 1, 1,\n",
       "       1, 1, 1, 1, 1, 1, 1, 1, 1, 1, 1, 1, 1, 1, 1, 1, 1, 1, 1, 1, 1, 1, 1,\n",
       "       1, 1, 1, 1, 1, 1, 1, 1, 1, 1, 1, 1, 1, 1, 1, 1, 1, 1, 1, 1, 1, 1, 1,\n",
       "       1, 1, 1, 1, 1, 1, 1, 1, 1, 1, 1, 1, 1, 1, 1, 1, 1, 1, 1, 1, 1, 1, 1,\n",
       "       1, 1, 1, 1, 1, 1, 1, 1, 1, 1, 1, 1, 1, 1, 1, 1, 1, 1, 1, 1, 1, 1, 1,\n",
       "       1, 1, 1, 1, 1, 1, 1, 1, 1, 1, 1, 1, 1, 1, 1, 1, 1, 1, 1, 1, 1, 1, 1,\n",
       "       1, 1, 1, 1, 1, 1, 1, 1, 1, 1, 1, 1, 1, 1, 1, 1, 1, 1, 1, 1, 1, 1, 1,\n",
       "       1, 1, 1, 1, 1, 1, 1, 1, 1, 1, 1, 1, 1, 1, 1, 1, 1, 1, 1, 1, 1, 1, 1,\n",
       "       1, 1, 1, 1, 1, 1, 1, 1, 1, 1, 1, 1, 1, 1, 1, 1, 1, 1, 1, 1, 1, 1, 1,\n",
       "       1, 1, 1, 1, 1, 1, 1, 1, 1, 1, 1, 1, 1, 1, 1, 1, 1, 1, 1, 1, 1, 1, 1,\n",
       "       1, 1, 1, 1, 1, 1, 1, 1, 1, 1, 1, 1, 1, 1, 1, 1, 1, 1, 1, 1, 1, 1, 1,\n",
       "       1, 1, 1, 1, 1, 1, 1, 1, 1, 1, 1, 1, 1, 1, 1, 1, 1, 1, 1, 1, 1, 1, 1,\n",
       "       1, 1, 1, 1, 1, 1, 1, 1, 1, 1, 1, 1, 1, 1, 1, 1, 1, 1, 1, 1, 1, 1, 1,\n",
       "       1, 1, 1, 1, 1, 1, 1, 1, 1, 1, 1, 1, 1, 1, 1, 1, 1, 1, 1, 1, 1, 1, 1,\n",
       "       1, 1, 1, 1, 1, 1, 1, 1, 1, 1, 1, 1, 1, 1, 1, 1, 1, 1, 1, 1, 1, 1, 1,\n",
       "       1, 1, 1, 1, 1, 1, 1, 1, 1, 1, 1, 1, 1, 1, 1, 1, 1, 1, 1, 1, 1, 1, 1,\n",
       "       1, 1, 1, 1, 1, 1, 1, 1, 1, 1, 1, 1, 1, 1, 1, 1, 1, 1, 1, 1, 1, 1, 1,\n",
       "       1, 1, 1])"
      ]
     },
     "execution_count": 135,
     "metadata": {},
     "output_type": "execute_result"
    }
   ],
   "source": [
    "np.argmax(Ytest, axis =1)"
   ]
  },
  {
   "cell_type": "code",
   "execution_count": 136,
   "metadata": {},
   "outputs": [
    {
     "name": "stdout",
     "output_type": "stream",
     "text": [
      "[[108 126]\n",
      " [  3 387]]\n"
     ]
    },
    {
     "data": {
      "text/plain": [
       "<matplotlib.figure.Figure at 0x7ffae88a4518>"
      ]
     },
     "metadata": {},
     "output_type": "display_data"
    },
    {
     "data": {
      "image/png": "[encoded data removed]",
      "text/plain": [
       "<matplotlib.figure.Figure at 0x7ffaea34c748>"
      ]
     },
     "metadata": {},
     "output_type": "display_data"
    }
   ],
   "source": [
    "\n",
    "pl.figure()\n",
    "matrix = confusion_matrix(np.argmax(Ytest, axis =1), np.argmax(predictions, axis =1))\n",
    "print(matrix)\n",
    "a = pl.matshow(matrix)\n",
    "\n",
    "pl.xticks(range(2), ['Normal', 'Pneumonia'])\n",
    "pl.yticks(range(2), ['Normal', 'Pneumonia'])\n",
    "\n",
    "pl.colorbar(a)\n",
    "pl.show()"
   ]
  },
  {
   "cell_type": "code",
   "execution_count": 137,
   "metadata": {},
   "outputs": [
    {
     "name": "stdout",
     "output_type": "stream",
     "text": [
      "precision:  0.992307692308\n",
      "recall:  0.754385964912\n"
     ]
    }
   ],
   "source": [
    "trueNegative,  falseNegative, falsePositive, truePositive,  = matrix.ravel()\n",
    "\n",
    "#print(truePositive)\n",
    "#print(falseNegative) # predicted sick 1, when you are not 0\n",
    "\n",
    "precision = truePositive/(truePositive+falsePositive)\n",
    "recall = truePositive/(truePositive+falseNegative)\n",
    "\n",
    "print(\"precision: \", precision)\n",
    "\n",
    "print(\"recall: \", recall)"
   ]
  }
 ],
 "metadata": {
  "kernelspec": {
   "display_name": "Python 3",
   "language": "python",
   "name": "python3"
  },
  "language_info": {
   "codemirror_mode": {
    "name": "ipython",
    "version": 3
   },
   "file_extension": ".py",
   "mimetype": "text/x-python",
   "name": "python",
   "nbconvert_exporter": "python",
   "pygments_lexer": "ipython3",
   "version": "3.6.6"
  }
 },
 "nbformat": 4,
 "nbformat_minor": 2
}
