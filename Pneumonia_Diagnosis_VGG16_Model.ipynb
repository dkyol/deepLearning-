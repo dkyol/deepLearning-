{
 "cells": [
  {
   "cell_type": "code",
   "execution_count": 90,
   "metadata": {},
   "outputs": [],
   "source": [
    "#Transfer Learnign Model Keras\n",
    "\n",
    "from keras.preprocessing.image import ImageDataGenerator\n",
    "from keras.models import Sequential\n",
    "from keras.layers import Dropout, Flatten, Dense\n",
    "from keras import applications\n",
    "from keras import backend as K\n",
    "from keras.optimizers import Adam\n",
    "import numpy as np\n"
   ]
  },
  {
   "cell_type": "code",
   "execution_count": 91,
   "metadata": {},
   "outputs": [],
   "source": [
    "img_width, img_height = 224, 224\n",
    "\n",
    "#top_model_weights_path = 'bottleneck_fc_model.h5'\n",
    "train_data_dir = '/home/ec2-user/src/Data/ChestXray/chest_xray/train'\n",
    "validation_data_dir = '/home/ec2-user/src/Data/ChestXray/chest_xray/val'\n",
    "test_dir = '/home/ec2-user/src/Data/ChestXray/chest_xray/test'\n",
    "nb_train_samples = 5216\n",
    "nb_validation_samples = 16\n",
    "batch_size = 1\n",
    "nb_test_samples = 624\n",
    "test_batch_size = 1\n"
   ]
  },
  {
   "cell_type": "code",
   "execution_count": 92,
   "metadata": {},
   "outputs": [
    {
     "name": "stdout",
     "output_type": "stream",
     "text": [
      "_________________________________________________________________\n",
      "Layer (type)                 Output Shape              Param #   \n",
      "=================================================================\n",
      "input_4 (InputLayer)         (None, None, None, 3)     0         \n",
      "_________________________________________________________________\n",
      "block1_conv1 (Conv2D)        (None, None, None, 64)    1792      \n",
      "_________________________________________________________________\n",
      "block1_conv2 (Conv2D)        (None, None, None, 64)    36928     \n",
      "_________________________________________________________________\n",
      "block1_pool (MaxPooling2D)   (None, None, None, 64)    0         \n",
      "_________________________________________________________________\n",
      "block2_conv1 (Conv2D)        (None, None, None, 128)   73856     \n",
      "_________________________________________________________________\n",
      "block2_conv2 (Conv2D)        (None, None, None, 128)   147584    \n",
      "_________________________________________________________________\n",
      "block2_pool (MaxPooling2D)   (None, None, None, 128)   0         \n",
      "_________________________________________________________________\n",
      "block3_conv1 (Conv2D)        (None, None, None, 256)   295168    \n",
      "_________________________________________________________________\n",
      "block3_conv2 (Conv2D)        (None, None, None, 256)   590080    \n",
      "_________________________________________________________________\n",
      "block3_conv3 (Conv2D)        (None, None, None, 256)   590080    \n",
      "_________________________________________________________________\n",
      "block3_pool (MaxPooling2D)   (None, None, None, 256)   0         \n",
      "_________________________________________________________________\n",
      "block4_conv1 (Conv2D)        (None, None, None, 512)   1180160   \n",
      "_________________________________________________________________\n",
      "block4_conv2 (Conv2D)        (None, None, None, 512)   2359808   \n",
      "_________________________________________________________________\n",
      "block4_conv3 (Conv2D)        (None, None, None, 512)   2359808   \n",
      "_________________________________________________________________\n",
      "block4_pool (MaxPooling2D)   (None, None, None, 512)   0         \n",
      "_________________________________________________________________\n",
      "block5_conv1 (Conv2D)        (None, None, None, 512)   2359808   \n",
      "_________________________________________________________________\n",
      "block5_conv2 (Conv2D)        (None, None, None, 512)   2359808   \n",
      "_________________________________________________________________\n",
      "block5_conv3 (Conv2D)        (None, None, None, 512)   2359808   \n",
      "_________________________________________________________________\n",
      "block5_pool (MaxPooling2D)   (None, None, None, 512)   0         \n",
      "=================================================================\n",
      "Total params: 14,714,688\n",
      "Trainable params: 14,714,688\n",
      "Non-trainable params: 0\n",
      "_________________________________________________________________\n"
     ]
    }
   ],
   "source": [
    "model = applications.VGG16(include_top=False, weights='imagenet')\n",
    "model.summary()"
   ]
  },
  {
   "cell_type": "code",
   "execution_count": 93,
   "metadata": {},
   "outputs": [
    {
     "name": "stdout",
     "output_type": "stream",
     "text": [
      "Found 5216 images belonging to 2 classes.\n",
      "Found 16 images belonging to 2 classes.\n",
      "Found 624 images belonging to 2 classes.\n"
     ]
    }
   ],
   "source": [
    "# reading in image data from training and validation steps \n",
    "\n",
    "# use ImageDataGenerator to normalize/augment \n",
    "\n",
    "datagen = ImageDataGenerator(rescale=1. / 255)\n",
    "\n",
    "# use flow_from_directory method to resize/pre-process \n",
    "\n",
    "generator = datagen.flow_from_directory(\n",
    "        train_data_dir,\n",
    "        target_size=(img_width, img_height),\n",
    "        batch_size=batch_size,\n",
    "        class_mode=None,\n",
    "        shuffle=False)\n",
    "\n",
    "#use model predict to create bottleneck weights from VGG16 & save to .npy file\n",
    "\n",
    "bottleneck_features_train = model.predict_generator(\n",
    "        generator, nb_train_samples // batch_size)\n",
    "np.save(open('bottleneck_features_train.npy', 'wb'),\n",
    "            bottleneck_features_train)\n",
    "\n",
    "generator = datagen.flow_from_directory(\n",
    "        validation_data_dir,\n",
    "        target_size=(img_width, img_height),\n",
    "        batch_size=batch_size,\n",
    "        class_mode=None,\n",
    "        shuffle=False)\n",
    "\n",
    "bottleneck_features_validation = model.predict_generator(\n",
    "        generator, nb_validation_samples // batch_size)\n",
    "np.save(open('bottleneck_features_validation.npy', 'wb'), bottleneck_features_validation)\n",
    "\n",
    "generator = datagen.flow_from_directory(\n",
    "        test_dir,\n",
    "        target_size=(img_width, img_height),\n",
    "        batch_size=batch_size,\n",
    "        class_mode=None,\n",
    "        shuffle=False)\n",
    "\n",
    "bottleneck_features_test = model.predict_generator(\n",
    "        generator, nb_test_samples // test_batch_size)\n",
    "np.save(open('bottleneck_features_test.npy', 'wb'), bottleneck_features_test)\n",
    "\n"
   ]
  },
  {
   "cell_type": "code",
   "execution_count": 94,
   "metadata": {},
   "outputs": [],
   "source": [
    "# train and create labels in sequential order\n",
    "\n",
    "# Normal 0; Pneumonia 1 \n",
    "\n",
    "train_data = np.load(open('bottleneck_features_train.npy','rb'))\n",
    "train_labels = np.array([0] * (1341) + [1] * (3875))\n",
    "\n",
    "validation_data = np.load(open('bottleneck_features_validation.npy','rb'))\n",
    "validation_labels = np.array([0] * (8) + [1] * (8))\n",
    "\n",
    "test_data = np.load(open('bottleneck_features_test.npy','rb'))\n",
    "test_labels = np.array([0] * (234) + [1] * (390))\n",
    "\n"
   ]
  },
  {
   "cell_type": "code",
   "execution_count": 110,
   "metadata": {},
   "outputs": [
    {
     "name": "stdout",
     "output_type": "stream",
     "text": [
      "(5216, 7, 7, 512)\n",
      "(5216,)\n",
      "(16, 7, 7, 512)\n",
      "(16,)\n",
      "(624, 7, 7, 512)\n",
      "(624,)\n"
     ]
    }
   ],
   "source": [
    "print(train_data.shape)\n",
    "print(train_labels.shape)\n",
    "print(validation_data.shape)\n",
    "print(validation_labels.shape)\n",
    "\n",
    "print(test_data.shape)\n",
    "print(test_labels.shape)"
   ]
  },
  {
   "cell_type": "code",
   "execution_count": 111,
   "metadata": {},
   "outputs": [
    {
     "name": "stdout",
     "output_type": "stream",
     "text": [
      "_________________________________________________________________\n",
      "Layer (type)                 Output Shape              Param #   \n",
      "=================================================================\n",
      "flatten_5 (Flatten)          (None, 25088)             0         \n",
      "_________________________________________________________________\n",
      "dense_13 (Dense)             (None, 500)               12544500  \n",
      "_________________________________________________________________\n",
      "dropout_9 (Dropout)          (None, 500)               0         \n",
      "_________________________________________________________________\n",
      "dense_14 (Dense)             (None, 250)               125250    \n",
      "_________________________________________________________________\n",
      "dropout_10 (Dropout)         (None, 250)               0         \n",
      "_________________________________________________________________\n",
      "dense_15 (Dense)             (None, 1)                 251       \n",
      "=================================================================\n",
      "Total params: 12,670,001\n",
      "Trainable params: 12,670,001\n",
      "Non-trainable params: 0\n",
      "_________________________________________________________________\n"
     ]
    }
   ],
   "source": [
    "# create dense fully connected model to add to base pre-configured model \n",
    "# inputs from trained bottled features\n",
    "\n",
    "model = Sequential()\n",
    "model.add(Flatten(input_shape=train_data.shape[1:]))\n",
    "model.add(Dense(500, activation='relu'))\n",
    "model.add(Dropout(0.6))\n",
    "model.add(Dense(250, activation='relu'))\n",
    "model.add(Dropout(0.6))\n",
    "model.add(Dense(1, activation='sigmoid'))\n",
    "model.summary()\n",
    "\n",
    "adam = Adam(lr=0.0001, decay=0.0001)\n",
    "model.compile(optimizer=adam, loss='binary_crossentropy', metrics=['accuracy'])\n"
   ]
  },
  {
   "cell_type": "code",
   "execution_count": 112,
   "metadata": {},
   "outputs": [
    {
     "name": "stdout",
     "output_type": "stream",
     "text": [
      "Train on 5216 samples, validate on 16 samples\n",
      "Epoch 1/40\n",
      "5214/5216 [============================>.] - ETA: 0s - loss: 0.2728 - acc: 0.8936Epoch 00000: val_loss improved from inf to 0.73149, saving model to model.weights.best.hdf5\n",
      "5216/5216 [==============================] - 86s - loss: 0.2727 - acc: 0.8936 - val_loss: 0.7315 - val_acc: 0.6875\n",
      "Epoch 2/40\n",
      "5213/5216 [============================>.] - ETA: 0s - loss: 0.1159 - acc: 0.9589Epoch 00001: val_loss improved from 0.73149 to 0.47071, saving model to model.weights.best.hdf5\n",
      "5216/5216 [==============================] - 86s - loss: 0.1158 - acc: 0.9590 - val_loss: 0.4707 - val_acc: 0.7500\n",
      "Epoch 3/40\n",
      "5215/5216 [============================>.] - ETA: 0s - loss: 0.0893 - acc: 0.9672Epoch 00002: val_loss improved from 0.47071 to 0.12741, saving model to model.weights.best.hdf5\n",
      "5216/5216 [==============================] - 86s - loss: 0.0893 - acc: 0.9672 - val_loss: 0.1274 - val_acc: 0.9375\n",
      "Epoch 4/40\n",
      "5215/5216 [============================>.] - ETA: 0s - loss: 0.0733 - acc: 0.9722Epoch 00003: val_loss did not improve\n",
      "5216/5216 [==============================] - 86s - loss: 0.0733 - acc: 0.9722 - val_loss: 0.3434 - val_acc: 0.8750\n",
      "Epoch 5/40\n",
      "5214/5216 [============================>.] - ETA: 0s - loss: 0.0613 - acc: 0.9793Epoch 00004: val_loss did not improve\n",
      "5216/5216 [==============================] - 86s - loss: 0.0613 - acc: 0.9793 - val_loss: 0.5731 - val_acc: 0.8750\n",
      "Epoch 6/40\n",
      "5215/5216 [============================>.] - ETA: 0s - loss: 0.0596 - acc: 0.9801Epoch 00005: val_loss did not improve\n",
      "5216/5216 [==============================] - 85s - loss: 0.0596 - acc: 0.9801 - val_loss: 0.6131 - val_acc: 0.8750\n",
      "Epoch 7/40\n",
      "5212/5216 [============================>.] - ETA: 0s - loss: 0.0499 - acc: 0.9839Epoch 00006: val_loss did not improve\n",
      "5216/5216 [==============================] - 85s - loss: 0.0499 - acc: 0.9839 - val_loss: 0.4913 - val_acc: 0.8750\n",
      "Epoch 8/40\n",
      "5212/5216 [============================>.] - ETA: 0s - loss: 0.0454 - acc: 0.9850Epoch 00007: val_loss did not improve\n",
      "5216/5216 [==============================] - 86s - loss: 0.0453 - acc: 0.9850 - val_loss: 0.4841 - val_acc: 0.8750\n",
      "Epoch 9/40\n",
      "5213/5216 [============================>.] - ETA: 0s - loss: 0.0374 - acc: 0.9852Epoch 00008: val_loss did not improve\n",
      "5216/5216 [==============================] - 85s - loss: 0.0374 - acc: 0.9852 - val_loss: 0.4300 - val_acc: 0.8750\n",
      "Epoch 10/40\n",
      "5212/5216 [============================>.] - ETA: 0s - loss: 0.0364 - acc: 0.9868Epoch 00009: val_loss did not improve\n",
      "5216/5216 [==============================] - 86s - loss: 0.0364 - acc: 0.9868 - val_loss: 0.7583 - val_acc: 0.8750\n",
      "Epoch 11/40\n",
      "5214/5216 [============================>.] - ETA: 0s - loss: 0.0336 - acc: 0.9885Epoch 00010: val_loss did not improve\n",
      "5216/5216 [==============================] - 86s - loss: 0.0336 - acc: 0.9885 - val_loss: 0.3922 - val_acc: 0.8750\n",
      "Epoch 12/40\n",
      "5215/5216 [============================>.] - ETA: 0s - loss: 0.0313 - acc: 0.9885Epoch 00011: val_loss did not improve\n",
      "5216/5216 [==============================] - 86s - loss: 0.0313 - acc: 0.9885 - val_loss: 0.4860 - val_acc: 0.8750\n",
      "Epoch 13/40\n",
      "5214/5216 [============================>.] - ETA: 0s - loss: 0.0270 - acc: 0.9906Epoch 00012: val_loss did not improve\n",
      "5216/5216 [==============================] - 86s - loss: 0.0270 - acc: 0.9906 - val_loss: 0.6203 - val_acc: 0.8750\n",
      "Epoch 14/40\n",
      "5215/5216 [============================>.] - ETA: 0s - loss: 0.0255 - acc: 0.9916Epoch 00013: val_loss did not improve\n",
      "5216/5216 [==============================] - 85s - loss: 0.0257 - acc: 0.9914 - val_loss: 0.3465 - val_acc: 0.8750\n",
      "Epoch 15/40\n",
      "5214/5216 [============================>.] - ETA: 0s - loss: 0.0222 - acc: 0.9923Epoch 00014: val_loss did not improve\n",
      "5216/5216 [==============================] - 85s - loss: 0.0222 - acc: 0.9923 - val_loss: 0.4968 - val_acc: 0.8750\n",
      "Epoch 16/40\n",
      "5212/5216 [============================>.] - ETA: 0s - loss: 0.0176 - acc: 0.9939Epoch 00015: val_loss did not improve\n",
      "5216/5216 [==============================] - 85s - loss: 0.0176 - acc: 0.9939 - val_loss: 0.7994 - val_acc: 0.8750\n",
      "Epoch 17/40\n",
      "5212/5216 [============================>.] - ETA: 0s - loss: 0.0174 - acc: 0.9948Epoch 00016: val_loss did not improve\n",
      "5216/5216 [==============================] - 86s - loss: 0.0174 - acc: 0.9948 - val_loss: 0.5943 - val_acc: 0.8750\n",
      "Epoch 18/40\n",
      "5214/5216 [============================>.] - ETA: 0s - loss: 0.0195 - acc: 0.9942Epoch 00017: val_loss did not improve\n",
      "5216/5216 [==============================] - 86s - loss: 0.0195 - acc: 0.9942 - val_loss: 0.5685 - val_acc: 0.8750\n",
      "Epoch 19/40\n",
      "5213/5216 [============================>.] - ETA: 0s - loss: 0.0163 - acc: 0.9950Epoch 00018: val_loss did not improve\n",
      "5216/5216 [==============================] - 86s - loss: 0.0163 - acc: 0.9950 - val_loss: 0.4144 - val_acc: 0.8750\n",
      "Epoch 20/40\n",
      "5215/5216 [============================>.] - ETA: 0s - loss: 0.0153 - acc: 0.9937Epoch 00019: val_loss did not improve\n",
      "5216/5216 [==============================] - 86s - loss: 0.0153 - acc: 0.9937 - val_loss: 0.6792 - val_acc: 0.8750\n",
      "Epoch 21/40\n",
      "5213/5216 [============================>.] - ETA: 0s - loss: 0.0163 - acc: 0.9929Epoch 00020: val_loss did not improve\n",
      "5216/5216 [==============================] - 86s - loss: 0.0162 - acc: 0.9929 - val_loss: 0.7832 - val_acc: 0.8750\n",
      "Epoch 22/40\n",
      "5212/5216 [============================>.] - ETA: 0s - loss: 0.0143 - acc: 0.9941Epoch 00021: val_loss did not improve\n",
      "5216/5216 [==============================] - 85s - loss: 0.0143 - acc: 0.9941 - val_loss: 0.7162 - val_acc: 0.8750\n",
      "Epoch 23/40\n",
      "5213/5216 [============================>.] - ETA: 0s - loss: 0.0114 - acc: 0.9962Epoch 00022: val_loss did not improve\n",
      "5216/5216 [==============================] - 85s - loss: 0.0114 - acc: 0.9962 - val_loss: 0.6413 - val_acc: 0.8750\n",
      "Epoch 24/40\n",
      "5212/5216 [============================>.] - ETA: 0s - loss: 0.0108 - acc: 0.9956Epoch 00023: val_loss did not improve\n",
      "5216/5216 [==============================] - 85s - loss: 0.0108 - acc: 0.9956 - val_loss: 1.0905 - val_acc: 0.8750\n",
      "Epoch 25/40\n",
      "5215/5216 [============================>.] - ETA: 0s - loss: 0.0126 - acc: 0.9956Epoch 00024: val_loss did not improve\n",
      "5216/5216 [==============================] - 85s - loss: 0.0126 - acc: 0.9956 - val_loss: 0.4934 - val_acc: 0.8750\n",
      "Epoch 26/40\n",
      "5212/5216 [============================>.] - ETA: 0s - loss: 0.0098 - acc: 0.9965Epoch 00025: val_loss did not improve\n",
      "5216/5216 [==============================] - 85s - loss: 0.0098 - acc: 0.9965 - val_loss: 0.7282 - val_acc: 0.8750\n",
      "Epoch 27/40\n",
      "5214/5216 [============================>.] - ETA: 0s - loss: 0.0106 - acc: 0.9958Epoch 00026: val_loss did not improve\n",
      "5216/5216 [==============================] - 86s - loss: 0.0106 - acc: 0.9958 - val_loss: 0.5142 - val_acc: 0.8750\n",
      "Epoch 28/40\n",
      "5215/5216 [============================>.] - ETA: 0s - loss: 0.0088 - acc: 0.9964Epoch 00027: val_loss did not improve\n",
      "5216/5216 [==============================] - 86s - loss: 0.0088 - acc: 0.9964 - val_loss: 0.8586 - val_acc: 0.8750\n",
      "Epoch 29/40\n",
      "5215/5216 [============================>.] - ETA: 0s - loss: 0.0098 - acc: 0.9964Epoch 00028: val_loss did not improve\n",
      "5216/5216 [==============================] - 86s - loss: 0.0098 - acc: 0.9964 - val_loss: 1.0683 - val_acc: 0.8750\n",
      "Epoch 30/40\n",
      "5214/5216 [============================>.] - ETA: 0s - loss: 0.0084 - acc: 0.9975Epoch 00029: val_loss did not improve\n",
      "5216/5216 [==============================] - 86s - loss: 0.0084 - acc: 0.9975 - val_loss: 0.9442 - val_acc: 0.8750\n",
      "Epoch 31/40\n",
      "5215/5216 [============================>.] - ETA: 0s - loss: 0.0071 - acc: 0.9971Epoch 00030: val_loss did not improve\n",
      "5216/5216 [==============================] - 85s - loss: 0.0071 - acc: 0.9971 - val_loss: 1.0393 - val_acc: 0.8750\n",
      "Epoch 32/40\n",
      "5215/5216 [============================>.] - ETA: 0s - loss: 0.0083 - acc: 0.9971Epoch 00031: val_loss did not improve\n",
      "5216/5216 [==============================] - 85s - loss: 0.0083 - acc: 0.9971 - val_loss: 1.0701 - val_acc: 0.8750\n",
      "Epoch 33/40\n",
      "5213/5216 [============================>.] - ETA: 0s - loss: 0.0088 - acc: 0.9960Epoch 00032: val_loss did not improve\n"
     ]
    },
    {
     "name": "stdout",
     "output_type": "stream",
     "text": [
      "5216/5216 [==============================] - 86s - loss: 0.0088 - acc: 0.9960 - val_loss: 0.7907 - val_acc: 0.8750\n",
      "Epoch 34/40\n",
      "5212/5216 [============================>.] - ETA: 0s - loss: 0.0074 - acc: 0.9969Epoch 00033: val_loss did not improve\n",
      "5216/5216 [==============================] - 85s - loss: 0.0074 - acc: 0.9969 - val_loss: 0.8593 - val_acc: 0.8750\n",
      "Epoch 35/40\n",
      "5212/5216 [============================>.] - ETA: 0s - loss: 0.0073 - acc: 0.9979Epoch 00034: val_loss did not improve\n",
      "5216/5216 [==============================] - 85s - loss: 0.0073 - acc: 0.9979 - val_loss: 0.9561 - val_acc: 0.8750\n",
      "Epoch 36/40\n",
      "5214/5216 [============================>.] - ETA: 0s - loss: 0.0079 - acc: 0.9975Epoch 00035: val_loss did not improve\n",
      "5216/5216 [==============================] - 85s - loss: 0.0079 - acc: 0.9975 - val_loss: 1.1023 - val_acc: 0.8750\n",
      "Epoch 37/40\n",
      "5212/5216 [============================>.] - ETA: 0s - loss: 0.0063 - acc: 0.9973Epoch 00036: val_loss did not improve\n",
      "5216/5216 [==============================] - 85s - loss: 0.0063 - acc: 0.9973 - val_loss: 0.9716 - val_acc: 0.8750\n",
      "Epoch 38/40\n",
      "5213/5216 [============================>.] - ETA: 0s - loss: 0.0056 - acc: 0.9981Epoch 00037: val_loss did not improve\n",
      "5216/5216 [==============================] - 85s - loss: 0.0056 - acc: 0.9981 - val_loss: 0.9648 - val_acc: 0.8750\n",
      "Epoch 39/40\n",
      "5213/5216 [============================>.] - ETA: 0s - loss: 0.0060 - acc: 0.9977Epoch 00038: val_loss did not improve\n",
      "5216/5216 [==============================] - 85s - loss: 0.0060 - acc: 0.9977 - val_loss: 1.1656 - val_acc: 0.8750\n",
      "Epoch 40/40\n",
      "5214/5216 [============================>.] - ETA: 0s - loss: 0.0074 - acc: 0.9971Epoch 00039: val_loss did not improve\n",
      "5216/5216 [==============================] - 85s - loss: 0.0074 - acc: 0.9971 - val_loss: 0.8043 - val_acc: 0.8750\n"
     ]
    }
   ],
   "source": [
    "# fit combined models to data\n",
    "\n",
    "from keras.callbacks import ModelCheckpoint  \n",
    "\n",
    "epochs = 40\n",
    "\n",
    "# train the model\n",
    "checkpointer = ModelCheckpoint(filepath='model.weights.best.hdf5', verbose=1, \n",
    "                               save_best_only=True)\n",
    "\n",
    "predict = model.fit(train_data, train_labels,\n",
    "             epochs=epochs,\n",
    "             batch_size=batch_size,\n",
    "             validation_data=(validation_data, validation_labels), callbacks=[checkpointer], verbose =1)\n"
   ]
  },
  {
   "cell_type": "code",
   "execution_count": 113,
   "metadata": {},
   "outputs": [
    {
     "name": "stdout",
     "output_type": "stream",
     "text": [
      "dict_keys(['val_loss', 'val_acc', 'acc', 'loss'])\n"
     ]
    }
   ],
   "source": [
    "print(predict.history.keys())"
   ]
  },
  {
   "cell_type": "code",
   "execution_count": 114,
   "metadata": {},
   "outputs": [
    {
     "name": "stdout",
     "output_type": "stream",
     "text": [
      "dict_keys(['val_loss', 'val_acc', 'acc', 'loss'])\n"
     ]
    },
    {
     "data": {
      "image/png": "[encoded data removed]",
      "text/plain": [
       "<matplotlib.figure.Figure at 0x7f78cd147cf8>"
      ]
     },
     "metadata": {},
     "output_type": "display_data"
    }
   ],
   "source": [
    "import matplotlib.pyplot as plt\n",
    "%matplotlib inline\n",
    "\n",
    "print(predict.history.keys())\n",
    "plt.plot(predict.history['acc'])\n",
    "plt.plot(predict.history['val_acc'])\n",
    "plt.title('model accuracy')\n",
    "plt.ylabel('accuracy')\n",
    "plt.xlabel('epoch')\n",
    "plt.legend(['train', 'val'], loc='lower right')\n",
    "plt.show()"
   ]
  },
  {
   "cell_type": "code",
   "execution_count": 115,
   "metadata": {},
   "outputs": [],
   "source": [
    "#load best trained weights\n",
    "\n",
    "model.load_weights('model.weights.best.hdf5')"
   ]
  },
  {
   "cell_type": "code",
   "execution_count": 116,
   "metadata": {},
   "outputs": [
    {
     "name": "stdout",
     "output_type": "stream",
     "text": [
      "384/624 [=================>............] - ETA: 0s\n",
      " Test accuracy: [0.55903827134543693, 0.86858974358974361]\n"
     ]
    }
   ],
   "source": [
    "# print model accuracy on the test data set\n",
    "\n",
    "score = model.evaluate(test_data, test_labels, verbose=1)\n",
    "print('\\n', 'Test accuracy:', score)\n"
   ]
  },
  {
   "cell_type": "code",
   "execution_count": 117,
   "metadata": {},
   "outputs": [
    {
     "name": "stdout",
     "output_type": "stream",
     "text": [
      "416/624 [===================>..........] - ETA: 0s"
     ]
    }
   ],
   "source": [
    "predictions = model.predict(test_data,verbose =1)"
   ]
  },
  {
   "cell_type": "code",
   "execution_count": 118,
   "metadata": {},
   "outputs": [
    {
     "data": {
      "text/plain": [
       "(624, 1)"
      ]
     },
     "execution_count": 118,
     "metadata": {},
     "output_type": "execute_result"
    }
   ],
   "source": [
    "predictions.shape"
   ]
  },
  {
   "cell_type": "code",
   "execution_count": 119,
   "metadata": {},
   "outputs": [],
   "source": [
    "pred =[]\n",
    "import math\n",
    "\n",
    "for x in predictions:\n",
    "    a = np.round(x,0)\n",
    "    pred.append(int(a))"
   ]
  },
  {
   "cell_type": "code",
   "execution_count": 120,
   "metadata": {},
   "outputs": [
    {
     "name": "stdout",
     "output_type": "stream",
     "text": [
      "[0, 0, 1, 0, 1, 0, 0, 0, 0, 0, 0, 0, 1, 0, 0, 1, 0, 1, 1, 0, 0, 0, 0, 0, 1, 0, 0, 0, 1, 0, 0, 1, 1, 0, 0, 0, 0, 0, 0, 0, 0, 0, 0, 0, 1, 1, 0, 0, 0, 0, 0, 0, 1, 0, 0, 0, 1, 0, 1, 0, 0, 1, 0, 0, 0, 1, 0, 0, 0, 0, 1, 0, 1, 0, 0, 1, 0, 0, 0, 0, 0, 0, 0, 1, 0, 1, 0, 1, 0, 0, 0, 0, 0, 1, 0, 1, 1, 1, 1, 0, 1, 0, 1, 0, 0, 1, 1, 0, 0, 1, 0, 0, 1, 0, 1, 0, 1, 1, 1, 0, 0, 0, 0, 1, 1, 0, 1, 1, 0, 0, 0, 1, 1, 0, 1, 0, 1, 0, 1, 0, 0, 1, 0, 1, 0, 0, 0, 0, 0, 1, 0, 0, 1, 0, 0, 1, 1, 1, 0, 0, 0, 0, 1, 0, 0, 0, 0, 0, 1, 1, 1, 0, 0, 1, 0, 0, 0, 1, 0, 0, 1, 0, 0, 1, 0, 0, 1, 0, 0, 1, 0, 0, 0, 0, 1, 0, 0, 0, 0, 1, 0, 0, 1, 1, 0, 0, 0, 0, 0, 0, 0, 1, 0, 0, 0, 0, 0, 0, 0, 1, 1, 0, 0, 1, 1, 0, 0, 0, 1, 0, 1, 0, 1, 1, 1, 1, 1, 1, 1, 1, 1, 1, 1, 1, 1, 1, 1, 1, 1, 1, 1, 1, 1, 1, 1, 1, 1, 1, 1, 1, 1, 1, 1, 1, 1, 1, 1, 1, 0, 1, 1, 1, 1, 1, 1, 1, 1, 1, 1, 1, 1, 1, 1, 1, 1, 1, 1, 1, 1, 1, 1, 1, 1, 1, 1, 1, 1, 1, 1, 1, 1, 1, 1, 1, 1, 1, 1, 1, 1, 1, 1, 1, 1, 1, 1, 1, 1, 1, 1, 1, 0, 1, 1, 1, 1, 1, 1, 1, 1, 1, 1, 1, 1, 1, 1, 1, 1, 1, 1, 1, 1, 1, 1, 1, 1, 1, 1, 1, 1, 1, 1, 1, 1, 1, 1, 1, 1, 1, 1, 1, 1, 1, 1, 1, 1, 1, 1, 1, 1, 1, 1, 1, 1, 1, 1, 1, 1, 1, 1, 1, 1, 1, 1, 1, 1, 1, 1, 1, 1, 1, 1, 0, 1, 1, 1, 1, 1, 1, 1, 1, 1, 1, 1, 1, 1, 1, 1, 1, 1, 1, 1, 1, 1, 1, 1, 1, 1, 1, 1, 1, 1, 1, 1, 1, 1, 1, 1, 1, 1, 1, 1, 1, 1, 1, 1, 1, 1, 1, 1, 1, 1, 1, 1, 1, 1, 1, 1, 1, 1, 1, 1, 1, 1, 1, 1, 1, 1, 1, 1, 1, 1, 1, 1, 1, 1, 1, 1, 1, 1, 1, 1, 1, 1, 1, 1, 1, 1, 1, 1, 1, 1, 1, 1, 1, 1, 1, 1, 1, 1, 1, 1, 1, 1, 1, 1, 1, 1, 1, 1, 1, 1, 1, 1, 1, 1, 1, 1, 1, 1, 1, 1, 0, 1, 1, 1, 1, 1, 1, 1, 1, 1, 1, 1, 1, 1, 1, 1, 1, 1, 1, 1, 1, 1, 1, 1, 1, 1, 1, 1, 1, 1, 1, 1, 1, 1, 1, 1, 1, 1, 1, 1, 1, 1, 1, 1, 1, 1, 1, 1, 1, 1, 1, 1, 1, 1, 1, 1, 1, 1, 1, 1, 1, 1, 1, 1, 1, 1, 1, 1, 1, 1, 1, 1, 1, 1, 1, 1, 1, 1, 1, 1, 1, 1, 1, 1, 1, 1, 1, 1, 1, 1, 1, 1, 1, 1, 1, 1, 1, 1, 1, 0, 1, 1, 1, 1, 1, 1, 1, 1, 1, 1, 1, 1, 1]\n"
     ]
    }
   ],
   "source": [
    "print(pred)"
   ]
  },
  {
   "cell_type": "code",
   "execution_count": 121,
   "metadata": {},
   "outputs": [],
   "source": [
    "truth = list(test_labels)"
   ]
  },
  {
   "cell_type": "code",
   "execution_count": 122,
   "metadata": {},
   "outputs": [
    {
     "name": "stdout",
     "output_type": "stream",
     "text": [
      "[0, 0, 0, 0, 0, 0, 0, 0, 0, 0, 0, 0, 0, 0, 0, 0, 0, 0, 0, 0, 0, 0, 0, 0, 0, 0, 0, 0, 0, 0, 0, 0, 0, 0, 0, 0, 0, 0, 0, 0, 0, 0, 0, 0, 0, 0, 0, 0, 0, 0, 0, 0, 0, 0, 0, 0, 0, 0, 0, 0, 0, 0, 0, 0, 0, 0, 0, 0, 0, 0, 0, 0, 0, 0, 0, 0, 0, 0, 0, 0, 0, 0, 0, 0, 0, 0, 0, 0, 0, 0, 0, 0, 0, 0, 0, 0, 0, 0, 0, 0, 0, 0, 0, 0, 0, 0, 0, 0, 0, 0, 0, 0, 0, 0, 0, 0, 0, 0, 0, 0, 0, 0, 0, 0, 0, 0, 0, 0, 0, 0, 0, 0, 0, 0, 0, 0, 0, 0, 0, 0, 0, 0, 0, 0, 0, 0, 0, 0, 0, 0, 0, 0, 0, 0, 0, 0, 0, 0, 0, 0, 0, 0, 0, 0, 0, 0, 0, 0, 0, 0, 0, 0, 0, 0, 0, 0, 0, 0, 0, 0, 0, 0, 0, 0, 0, 0, 0, 0, 0, 0, 0, 0, 0, 0, 0, 0, 0, 0, 0, 0, 0, 0, 0, 0, 0, 0, 0, 0, 0, 0, 0, 0, 0, 0, 0, 0, 0, 0, 0, 0, 0, 0, 0, 0, 0, 0, 0, 0, 0, 0, 0, 0, 0, 0, 1, 1, 1, 1, 1, 1, 1, 1, 1, 1, 1, 1, 1, 1, 1, 1, 1, 1, 1, 1, 1, 1, 1, 1, 1, 1, 1, 1, 1, 1, 1, 1, 1, 1, 1, 1, 1, 1, 1, 1, 1, 1, 1, 1, 1, 1, 1, 1, 1, 1, 1, 1, 1, 1, 1, 1, 1, 1, 1, 1, 1, 1, 1, 1, 1, 1, 1, 1, 1, 1, 1, 1, 1, 1, 1, 1, 1, 1, 1, 1, 1, 1, 1, 1, 1, 1, 1, 1, 1, 1, 1, 1, 1, 1, 1, 1, 1, 1, 1, 1, 1, 1, 1, 1, 1, 1, 1, 1, 1, 1, 1, 1, 1, 1, 1, 1, 1, 1, 1, 1, 1, 1, 1, 1, 1, 1, 1, 1, 1, 1, 1, 1, 1, 1, 1, 1, 1, 1, 1, 1, 1, 1, 1, 1, 1, 1, 1, 1, 1, 1, 1, 1, 1, 1, 1, 1, 1, 1, 1, 1, 1, 1, 1, 1, 1, 1, 1, 1, 1, 1, 1, 1, 1, 1, 1, 1, 1, 1, 1, 1, 1, 1, 1, 1, 1, 1, 1, 1, 1, 1, 1, 1, 1, 1, 1, 1, 1, 1, 1, 1, 1, 1, 1, 1, 1, 1, 1, 1, 1, 1, 1, 1, 1, 1, 1, 1, 1, 1, 1, 1, 1, 1, 1, 1, 1, 1, 1, 1, 1, 1, 1, 1, 1, 1, 1, 1, 1, 1, 1, 1, 1, 1, 1, 1, 1, 1, 1, 1, 1, 1, 1, 1, 1, 1, 1, 1, 1, 1, 1, 1, 1, 1, 1, 1, 1, 1, 1, 1, 1, 1, 1, 1, 1, 1, 1, 1, 1, 1, 1, 1, 1, 1, 1, 1, 1, 1, 1, 1, 1, 1, 1, 1, 1, 1, 1, 1, 1, 1, 1, 1, 1, 1, 1, 1, 1, 1, 1, 1, 1, 1, 1, 1, 1, 1, 1, 1, 1, 1, 1, 1, 1, 1, 1, 1, 1, 1, 1, 1, 1, 1, 1, 1, 1, 1, 1, 1, 1, 1, 1, 1, 1, 1, 1, 1, 1, 1, 1, 1, 1, 1, 1, 1, 1, 1, 1, 1, 1, 1, 1, 1, 1, 1, 1, 1, 1, 1, 1, 1, 1, 1, 1, 1, 1, 1, 1, 1, 1, 1, 1, 1, 1, 1, 1, 1, 1, 1, 1, 1, 1, 1]\n"
     ]
    }
   ],
   "source": [
    "print(truth)"
   ]
  },
  {
   "cell_type": "code",
   "execution_count": 123,
   "metadata": {},
   "outputs": [
    {
     "name": "stdout",
     "output_type": "stream",
     "text": [
      "[[157  77]\n",
      " [  5 385]]\n"
     ]
    },
    {
     "data": {
      "text/plain": [
       "<matplotlib.figure.Figure at 0x7f78cca90cc0>"
      ]
     },
     "metadata": {},
     "output_type": "display_data"
    },
    {
     "data": {
      "image/png": "[encoded data removed]",
      "text/plain": [
       "<matplotlib.figure.Figure at 0x7f78ccfccdd8>"
      ]
     },
     "metadata": {},
     "output_type": "display_data"
    }
   ],
   "source": [
    "from sklearn.metrics import confusion_matrix\n",
    "import pylab as pl\n",
    "\n",
    "pl.figure()\n",
    "matrix = confusion_matrix(truth, pred)\n",
    "print(matrix)\n",
    "a = pl.matshow(matrix)\n",
    "\n",
    "pl.xticks(range(2), ['Normal', 'Pneumonia'])\n",
    "pl.yticks(range(2), ['Normal', 'Pneumonia'])\n",
    "\n",
    "pl.colorbar(a)\n",
    "pl.show()"
   ]
  },
  {
   "cell_type": "code",
   "execution_count": 124,
   "metadata": {},
   "outputs": [
    {
     "name": "stdout",
     "output_type": "stream",
     "text": [
      "precision:  0.987179487179\n",
      "recall:  0.833333333333\n"
     ]
    }
   ],
   "source": [
    "trueNegative,  falseNegative, falsePositive, truePositive,  = matrix.ravel()\n",
    "\n",
    "# 0 normal, # 1 healthy\n",
    "\n",
    "precision = truePositive/(truePositive+falsePositive)\n",
    "recall = truePositive/(truePositive+falseNegative)\n",
    "\n",
    "print(\"precision: \", precision)\n",
    "\n",
    "print(\"recall: \", recall)"
   ]
  }
 ],
 "metadata": {
  "kernelspec": {
   "display_name": "Python 3",
   "language": "python",
   "name": "python3"
  },
  "language_info": {
   "codemirror_mode": {
    "name": "ipython",
    "version": 3
   },
   "file_extension": ".py",
   "mimetype": "text/x-python",
   "name": "python",
   "nbconvert_exporter": "python",
   "pygments_lexer": "ipython3",
   "version": "3.6.6"
  }
 },
 "nbformat": 4,
 "nbformat_minor": 2
}
